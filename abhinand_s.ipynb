{
  "nbformat": 4,
  "nbformat_minor": 0,
  "metadata": {
    "colab": {
      "provenance": []
    },
    "kernelspec": {
      "name": "python3",
      "display_name": "Python 3"
    },
    "language_info": {
      "name": "python"
    }
  },
  "cells": [
    {
      "cell_type": "code",
      "execution_count": 1,
      "metadata": {
        "colab": {
          "base_uri": "https://localhost:8080/",
          "height": 53
        },
        "id": "6wdlj8nsV6jN",
        "outputId": "2d301340-e906-4cd0-b43f-127a8f7802e5"
      },
      "outputs": [
        {
          "output_type": "execute_result",
          "data": {
            "text/plain": [
              "'Write a Python function to accept a string value from the user and display the\\ncount of each character in that string. Sample input: Enter a string value:\\nassembly Sample output: a=1, s=2, e=1, m=1, b=1, l=1, y=1'"
            ],
            "application/vnd.google.colaboratory.intrinsic+json": {
              "type": "string"
            }
          },
          "metadata": {},
          "execution_count": 1
        }
      ],
      "source": [
        "'''Write a Python function to accept a string value from the user and display the\n",
        "count of each character in that string. Sample input: Enter a string value:\n",
        "assembly Sample output: a=1, s=2, e=1, m=1, b=1, l=1, y=1'''\n"
      ]
    },
    {
      "cell_type": "code",
      "source": [
        "'''Write a Python function to find the maximum of three numbers Sample input:\n",
        "34,12,7 Sample output: 34'''"
      ],
      "metadata": {
        "colab": {
          "base_uri": "https://localhost:8080/",
          "height": 35
        },
        "id": "Ddg-Y4kSYO5x",
        "outputId": "9f4b043b-f201-4de7-e322-18eb449ccbed"
      },
      "execution_count": 2,
      "outputs": [
        {
          "output_type": "execute_result",
          "data": {
            "text/plain": [
              "'Write a Python function to find the maximum of three numbers Sample input:\\n34,12,7 Sample output: 34'"
            ],
            "application/vnd.google.colaboratory.intrinsic+json": {
              "type": "string"
            }
          },
          "metadata": {},
          "execution_count": 2
        }
      ]
    },
    {
      "cell_type": "code",
      "source": [
        "def max(a,b,c):\n",
        "  if(a>b):\n",
        "    print(a)\n",
        "  elif(b>c):\n",
        "     print(b)\n",
        "  else:\n",
        "     print(c)"
      ],
      "metadata": {
        "id": "T1XTLyPfdaWj"
      },
      "execution_count": 6,
      "outputs": []
    },
    {
      "cell_type": "code",
      "source": [
        "max(1,2,3)"
      ],
      "metadata": {
        "colab": {
          "base_uri": "https://localhost:8080/"
        },
        "id": "TmMjKmJxeCBQ",
        "outputId": "beabce2f-dd68-406b-82bb-07a8dbd7e34a"
      },
      "execution_count": 7,
      "outputs": [
        {
          "output_type": "stream",
          "name": "stdout",
          "text": [
            "3\n"
          ]
        }
      ]
    },
    {
      "cell_type": "code",
      "source": [
        "''' Write a Python function called exponent(base,exp) that returns an integer\n",
        "value of base raises to the power of exp. Sample input: Enter the base: 2\n",
        "Enter the exponent: 3 Sample output: 8'''"
      ],
      "metadata": {
        "colab": {
          "base_uri": "https://localhost:8080/",
          "height": 53
        },
        "id": "Hol1Dw2ApnmX",
        "outputId": "30420029-1848-4cc2-e8f6-dbfc9691c3f4"
      },
      "execution_count": 8,
      "outputs": [
        {
          "output_type": "execute_result",
          "data": {
            "text/plain": [
              "' Write a Python function called exponent(base,exp) that returns an integer\\nvalue of base raises to the power of exp. Sample input: Enter the base: 2\\nEnter the exponent: 3 Sample output: 8'"
            ],
            "application/vnd.google.colaboratory.intrinsic+json": {
              "type": "string"
            }
          },
          "metadata": {},
          "execution_count": 8
        }
      ]
    },
    {
      "cell_type": "code",
      "source": [
        "def ba_exp(base,expo):\n",
        "  int\n",
        "   base =**expo\n",
        "   base=int(input?(\"enter the base:\"))\n",
        "   expo=int(inpu(\"enter the exponent:\"))\n",
        "   print(bas_exp(base,expo))"
      ],
      "metadata": {
        "colab": {
          "base_uri": "https://localhost:8080/",
          "height": 106
        },
        "id": "s4UNO5xnqjD-",
        "outputId": "4120c0ac-05bd-4796-8685-8314b5cecea1"
      },
      "execution_count": 13,
      "outputs": [
        {
          "output_type": "error",
          "ename": "IndentationError",
          "evalue": "unexpected indent (<ipython-input-13-32aa04c9eb88>, line 3)",
          "traceback": [
            "\u001b[0;36m  File \u001b[0;32m\"<ipython-input-13-32aa04c9eb88>\"\u001b[0;36m, line \u001b[0;32m3\u001b[0m\n\u001b[0;31m    base =**expo\u001b[0m\n\u001b[0m    ^\u001b[0m\n\u001b[0;31mIndentationError\u001b[0m\u001b[0;31m:\u001b[0m unexpected indent\n"
          ]
        }
      ]
    },
    {
      "cell_type": "code",
      "source": [
        "'''8. Write a Python program using for loop that will iterate from 1 to 15. For each\n",
        "iteration, check if the current number is odd or even, and display the message\n",
        "to the screen as odd or even. Sample input: 1….15 Sample output: 1-odd 2-\n",
        "even …. 15-odd'''"
      ],
      "metadata": {
        "colab": {
          "base_uri": "https://localhost:8080/",
          "height": 53
        },
        "id": "dDZ2JXYZyuYd",
        "outputId": "ec6db077-96ed-457b-b57f-09552d7a6881"
      },
      "execution_count": 14,
      "outputs": [
        {
          "output_type": "execute_result",
          "data": {
            "text/plain": [
              "' Write a Python program using for loop that will iterate from 1 to 15. For each\\niteration, check if the current number is odd or even, and display the message\\nto the screen as odd or even. Sample input: 1….15 Sample output: 1-odd 2-\\neven …. 15-odd'"
            ],
            "application/vnd.google.colaboratory.intrinsic+json": {
              "type": "string"
            }
          },
          "metadata": {},
          "execution_count": 14
        }
      ]
    },
    {
      "cell_type": "code",
      "source": [
        "for i in range(1,16):\n",
        "  if i%2==0:\n",
        "    print(f\"{i} -even\")\n",
        "  else:\n",
        "    print(f\"{i} -odd\")"
      ],
      "metadata": {
        "colab": {
          "base_uri": "https://localhost:8080/"
        },
        "id": "SW-opKTczTZd",
        "outputId": "d505194b-dc82-44aa-f512-0228f29343dd"
      },
      "execution_count": 16,
      "outputs": [
        {
          "output_type": "stream",
          "name": "stdout",
          "text": [
            "1 -odd\n",
            "2 -even\n",
            "3 -odd\n",
            "4 -even\n",
            "5 -odd\n",
            "6 -even\n",
            "7 -odd\n",
            "8 -even\n",
            "9 -odd\n",
            "10 -even\n",
            "11 -odd\n",
            "12 -even\n",
            "13 -odd\n",
            "14 -even\n",
            "15 -odd\n"
          ]
        }
      ]
    },
    {
      "cell_type": "code",
      "source": [
        "'''5. Write a Python program which iterates from 1 to 10. For multiples of 2, print\n",
        "“Fizz” instead of the number and for the multiples of 5, print “Buzz”. For\n",
        "numbers which are multiples of both 2 and 5, print “FizzBuzz”. Sample input:\n",
        "numbers from 1 to 10 Sample output: 1 Fizz 3 Fizz Buzz Fizz 7 Fizz 9\n",
        "FizzBuzz'''"
      ],
      "metadata": {
        "colab": {
          "base_uri": "https://localhost:8080/",
          "height": 53
        },
        "id": "w59LZ4Ji0VD3",
        "outputId": "1dd46658-973c-42e2-8793-c18fe0b2a431"
      },
      "execution_count": 17,
      "outputs": [
        {
          "output_type": "execute_result",
          "data": {
            "text/plain": [
              "'5. Write a Python program which iterates from 1 to 10. For multiples of 2, print\\n“Fizz” instead of the number and for the multiples of 5, print “Buzz”. For\\nnumbers which are multiples of both 2 and 5, print “FizzBuzz”. Sample input:\\nnumbers from 1 to 10 Sample output: 1 Fizz 3 Fizz Buzz Fizz 7 Fizz 9\\nFizzBuzz'"
            ],
            "application/vnd.google.colaboratory.intrinsic+json": {
              "type": "string"
            }
          },
          "metadata": {},
          "execution_count": 17
        }
      ]
    },
    {
      "cell_type": "code",
      "source": [
        "for i in range(1,11):\n",
        "  if i% 2 == 0 and i% 5 ==0:\n",
        "    print(\"FizzBuz\")\n",
        "  elif i% 2 == 0:\n",
        "     print(\"fizz\")\n",
        "  elif i % 5 == 0:\n",
        "     print(\"Buzz\")\n",
        "  else:\n",
        "      print(i)"
      ],
      "metadata": {
        "colab": {
          "base_uri": "https://localhost:8080/"
        },
        "id": "P9xwSJAF07jm",
        "outputId": "81cad18c-53b4-4439-8aa0-0bb38200f0b6"
      },
      "execution_count": 28,
      "outputs": [
        {
          "output_type": "stream",
          "name": "stdout",
          "text": [
            "1\n",
            "fizz\n",
            "3\n",
            "fizz\n",
            "Buzz\n",
            "fizz\n",
            "7\n",
            "fizz\n",
            "9\n",
            "FizzBuz\n"
          ]
        }
      ]
    },
    {
      "cell_type": "code",
      "source": [
        "'''4. Write a Python function that takes a positive integer and returns the sum of\n",
        "the cube of all the positive integers smaller than the specified number.\n",
        "Sample input: 4 Sample output: 36.'''"
      ],
      "metadata": {
        "colab": {
          "base_uri": "https://localhost:8080/",
          "height": 53
        },
        "id": "5w9wLdoH2KPw",
        "outputId": "5cef944b-2fe3-41ef-b439-9dffb66b0073"
      },
      "execution_count": 30,
      "outputs": [
        {
          "output_type": "execute_result",
          "data": {
            "text/plain": [
              "'4. Write a Python function that takes a positive integer and returns the sum of\\nthe cube of all the positive integers smaller than the specified number.\\nSample input: 4 Sample output: 36.'"
            ],
            "application/vnd.google.colaboratory.intrinsic+json": {
              "type": "string"
            }
          },
          "metadata": {},
          "execution_count": 30
        }
      ]
    },
    {
      "cell_type": "code",
      "source": [
        "def sum_cube(n):\n",
        "  sum=0\n",
        "  for i in range(1,n):\n",
        "    sum +=i**3\n",
        "  return sum"
      ],
      "metadata": {
        "id": "D5FWxGLt4lHM"
      },
      "execution_count": 32,
      "outputs": []
    },
    {
      "cell_type": "code",
      "source": [
        "sum_cube(3)"
      ],
      "metadata": {
        "colab": {
          "base_uri": "https://localhost:8080/"
        },
        "id": "GPfeuN1I5Fsf",
        "outputId": "7ef71a28-5736-46a8-eadd-0f4dbe874beb"
      },
      "execution_count": 35,
      "outputs": [
        {
          "output_type": "execute_result",
          "data": {
            "text/plain": [
              "9"
            ]
          },
          "metadata": {},
          "execution_count": 35
        }
      ]
    },
    {
      "cell_type": "code",
      "source": [
        "'''7. Write a Python function to find the sum of squares of the numbers in a list.\n",
        "Sample input: 2,1,3,1 Sample output: 15'''"
      ],
      "metadata": {
        "colab": {
          "base_uri": "https://localhost:8080/",
          "height": 35
        },
        "id": "e2g0C6Ag5sc8",
        "outputId": "1d6579eb-bed9-47f7-9745-ee3975d26a9f"
      },
      "execution_count": 36,
      "outputs": [
        {
          "output_type": "execute_result",
          "data": {
            "text/plain": [
              "'7. Write a Python function to find the sum of squares of the numbers in a list.\\nSample input: 2,1,3,1 Sample output: 15'"
            ],
            "application/vnd.google.colaboratory.intrinsic+json": {
              "type": "string"
            }
          },
          "metadata": {},
          "execution_count": 36
        }
      ]
    },
    {
      "cell_type": "code",
      "source": [
        "from ast import Num\n",
        "def sum_squares(numbers):\n",
        "  sum = 0\n",
        "  for num in numbers:\n",
        "    sum +=num *Num\n",
        "    return sum\n",
        "    numbers = [1, 2, 3, 1]\n",
        "    print(sum_squares(numbers))"
      ],
      "metadata": {
        "id": "vDr2f6Hc51HM"
      },
      "execution_count": 41,
      "outputs": []
    },
    {
      "cell_type": "code",
      "source": [
        "'''Write a Python function to convert temperatures to and from Celsius\n",
        "Fahrenheit. [Formula: c/5=f-32/9 where c=temperature in Celsius and f=\n",
        "temperature in Fahrenheit.] Sample input: Temperature in Fahrenheit =41\n",
        "Sample output: Temperature in Celsius =5'''"
      ],
      "metadata": {
        "colab": {
          "base_uri": "https://localhost:8080/",
          "height": 53
        },
        "id": "C6v_UR5y6qgc",
        "outputId": "c4937d3b-26f0-4f5b-adfd-74216b4b014d"
      },
      "execution_count": 42,
      "outputs": [
        {
          "output_type": "execute_result",
          "data": {
            "text/plain": [
              "'Write a Python function to convert temperatures to and from Celsius\\nFahrenheit. [Formula: c/5=f-32/9 where c=temperature in Celsius and f=\\ntemperature in Fahrenheit.] Sample input: Temperature in Fahrenheit =41\\nSample output: Temperature in Celsius =5'"
            ],
            "application/vnd.google.colaboratory.intrinsic+json": {
              "type": "string"
            }
          },
          "metadata": {},
          "execution_count": 42
        }
      ]
    },
    {
      "cell_type": "code",
      "source": [],
      "metadata": {
        "id": "x9Aas47J7NQs"
      },
      "execution_count": null,
      "outputs": []
    }
  ]
}